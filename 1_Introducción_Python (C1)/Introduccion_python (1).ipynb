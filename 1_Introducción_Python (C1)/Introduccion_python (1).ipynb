{
 "cells": [
  {
   "cell_type": "markdown",
   "metadata": {},
   "source": [
    "# Tópicos en aprendizaje de maquinas\n",
    "#### Profesor Complementario: Jose S. Ñungo"
   ]
  },
  {
   "cell_type": "markdown",
   "metadata": {},
   "source": [
    "# Introducción a Python\n",
    "> **Objetivo**: El objetivo de este taller es darles herramientas para que se familiaricen con los elementos básicos de Python.\n",
    "\n",
    "\n",
    "¿Qué es y Por qué Python? \n",
    "\n",
    "Python es un [lenguaje de programación](https://es.wikipedia.org/wiki/Lenguaje_de_programaci%C3%B3n)\n",
    "- Es el lenguaje de programación más popular del mundo en el 2021.\n",
    "- Es el primero cuando se trata de temas de análisis de datos.\n",
    "- Es un lenguaje de propósito general, es decir que se utiliza para muchas cosas como Machine Learning, Internet of things, creación de aplicaciones web, de escritorio y de móviles.\n",
    "- Open-source\n",
    "- Comunidad grande y colaborativa\n",
    "---\n",
    "> **Recuerde**: Estamos usando Python 3.8. Usamos como *Managers* PIP y Conda. Todo esto lo logramos de manera sencilla instalando [Miniconda](https://docs.conda.io/en/latest/miniconda.html)."
   ]
  },
  {
   "cell_type": "markdown",
   "metadata": {},
   "source": [
    "### Jupyter Notebook\n",
    "Los archivos de extensión *.ipynb* presentan una interfaz muy cómoda para el aprendizaje, y la colaboración. Contiene:\n",
    "- Celdas de código\n",
    "- Celdas de [markdown] (https://github.com/adam-p/markdown-here/wiki/Markdown-Cheatsheet) (como esta)\n",
    "- Celdas de texto crudo\n",
    "- Kernel\n",
    "\n",
    "<div class=\"alert alert-info\">\n",
    "La documentación oficial de Jupyter está  \n",
    "<a href=\"https://jupyter-notebook.readthedocs.io/en/stable/\" class=\"alert-link\">aquí</a>\n",
    "y puede encontrar algunos Notebooks didácticos \n",
    "<a href=\"https://github.com/jupyter/notebook/tree/master/docs/source/examples/Notebook\" class=\"alert-link\">aquí</a>\n",
    "."
   ]
  },
  {
   "cell_type": "markdown",
   "metadata": {},
   "source": [
    "### Kernel\n",
    "El \"kernel\" es lo que permite que se corran cosas en python, Jupyter es una interfaz para que los bloques de código corran dentro de una consola de python, el kernel es el que conecta esta interfaz con la parte del computador que corre el código.\n",
    "\n",
    "El kernel también guarda **espacio de trabajo**, es decir todas las variables que se han declarado. \n",
    "\n",
    "Se puede reiniciar el kernel de manera rápida en la pestaña de \"kernel\" en el tope."
   ]
  },
  {
   "cell_type": "markdown",
   "metadata": {},
   "source": [
    "## Variables en Python\n",
    "En python una variables es creada cuando se le asigna algun valor y se nombra."
   ]
  },
  {
   "cell_type": "code",
   "execution_count": 2,
   "metadata": {},
   "outputs": [],
   "source": [
    "x = 5 \n",
    "y = 'Hola Mundo !!'"
   ]
  },
  {
   "cell_type": "markdown",
   "metadata": {},
   "source": [
    "Para saber cuál es el valor de una variable siempre utilizaremos la función nativa de Python, `print()`. Por ejemplo:\n",
    "```python\n",
    "s = \"Esta es mi variable\"\n",
    "print(s)\n",
    "```"
   ]
  },
  {
   "cell_type": "code",
   "execution_count": 3,
   "metadata": {},
   "outputs": [
    {
     "data": {
      "text/plain": [
       "\"\\nTODO: Hagale a las variables !\\n    1. Imprima el valor de la variable 'x' y 'y'\\n\""
      ]
     },
     "execution_count": 3,
     "metadata": {},
     "output_type": "execute_result"
    }
   ],
   "source": [
    "'''\n",
    "TODO: Hagale a las variables !\n",
    "    1. Imprima el valor de la variable 'x' y 'y'\n",
    "'''"
   ]
  },
  {
   "cell_type": "markdown",
   "metadata": {},
   "source": [
    "### Tipos de variables básicas\n",
    "1. Integers: `x = 3`\n",
    "2. Float: `x = 3.0`\n",
    "3. Strings `x = '3'`\n",
    "4. Boolean `x = True` o `x = False`"
   ]
  },
  {
   "cell_type": "code",
   "execution_count": 4,
   "metadata": {},
   "outputs": [
    {
     "data": {
      "text/plain": [
       "'\\nTODO: Hagale a las variables !\\n    1. Cree una varible de tipo String con su nombre, y una númerica con su código de la universidad\\n    2. Imprima sus valores\\n'"
      ]
     },
     "execution_count": 4,
     "metadata": {},
     "output_type": "execute_result"
    }
   ],
   "source": [
    "'''\n",
    "TODO: Hagale a las variables !\n",
    "    1. Cree una varible de tipo String con su nombre, y una númerica con su código de la universidad\n",
    "    2. Imprima sus valores\n",
    "'''"
   ]
  },
  {
   "cell_type": "markdown",
   "metadata": {},
   "source": [
    "#### Solo les comento...\n",
    "\n",
    "| Tipo de variable | Dentro de python  |\n",
    "| -----------------| --------------- |\n",
    "|    Texto      | `str`            |\n",
    "|    Numéricas      | `int`, `float`, `complex`        |\n",
    "|    Secuenciales      | `list`, `tuple`, `range`  |\n",
    "|    Mapeos      | `dict`        |\n",
    "|    Conjuntos     | `set`, `frozenset` |\n",
    "|    Booleano   | `bool`        |\n",
    "|    Binario    | `byte`, `bytearray`, `memoryview` |\n"
   ]
  },
  {
   "cell_type": "code",
   "execution_count": 5,
   "metadata": {},
   "outputs": [],
   "source": [
    "x = -1    # int\n",
    "y = 2.8  # float\n",
    "z = 1j   # complex\n",
    "u = 'String' # str"
   ]
  },
  {
   "cell_type": "markdown",
   "metadata": {},
   "source": [
    "Para saber cuál es el valor de una variable siempre utilizaremos la función nativa de Python, `type()`. Por ejemplo:\n",
    "```python\n",
    "s = \"Esta es mi variable\"\n",
    "print(type(s))\n",
    "```"
   ]
  },
  {
   "cell_type": "code",
   "execution_count": 6,
   "metadata": {},
   "outputs": [
    {
     "data": {
      "text/plain": [
       "\"\\nTODO: Hagale a las variables !\\n    1. Imprima los valores de las variables 'x', 'y', 'z' y 'u'\\n    2. Imprima el tipo de la variable\\n\""
      ]
     },
     "execution_count": 6,
     "metadata": {},
     "output_type": "execute_result"
    }
   ],
   "source": [
    "'''\n",
    "TODO: Hagale a las variables !\n",
    "    1. Imprima los valores de las variables 'x', 'y', 'z' y 'u'\n",
    "    2. Imprima el tipo de la variable\n",
    "'''"
   ]
  },
  {
   "cell_type": "markdown",
   "metadata": {},
   "source": [
    "### *Casting* de variables\n",
    "\n",
    "Hay casos en los que queremos especificar el tipo de nuestra variable. Esto se puede hacer con el casting de variables:\n",
    ">* `int()` - Construye un entero utilizando el argumento, puede construir un entero de un numero real haciendo utilizando la funcion *piso*.\n",
    ">* `float()` - Construye un decimal utilizando el argumento.\n",
    ">* `str()` - Construye una cadena de caracteres utilizando el argumento."
   ]
  },
  {
   "cell_type": "code",
   "execution_count": 7,
   "metadata": {},
   "outputs": [],
   "source": [
    "x = int(2.8)\n",
    "y = float(2.8)\n",
    "z = str(2.8)"
   ]
  },
  {
   "cell_type": "code",
   "execution_count": 8,
   "metadata": {},
   "outputs": [
    {
     "data": {
      "text/plain": [
       "'\\nTODO: Hagale a las variables !\\n    1. Imprima el tipo de las variables y verifique no sea el mismo\\n'"
      ]
     },
     "execution_count": 8,
     "metadata": {},
     "output_type": "execute_result"
    }
   ],
   "source": [
    "'''\n",
    "TODO: Hagale a las variables !\n",
    "    1. Imprima el tipo de las variables y verifique no sea el mismo\n",
    "'''"
   ]
  },
  {
   "cell_type": "markdown",
   "metadata": {},
   "source": [
    "### Operacion de variables numéricas\n",
    "\n",
    "| Operación | Resultado       |\n",
    "| --------- | --------------- |\n",
    "|    +      | Suma            |\n",
    "|    -      | Resta           |\n",
    "|    *      | Multiplicación  |\n",
    "|    /      | División        |\n",
    "|    %      | Modulo          |\n",
    "|    //     | División entera |\n",
    "|    \\*\\*   | Potencia        |\n"
   ]
  },
  {
   "cell_type": "code",
   "execution_count": 9,
   "metadata": {},
   "outputs": [],
   "source": [
    "a, b, c = 5, 2, 87"
   ]
  },
  {
   "cell_type": "code",
   "execution_count": 10,
   "metadata": {},
   "outputs": [
    {
     "data": {
      "text/plain": [
       "'\\nTODO: Hagale a las variables ! Imprima los siguientes calculos\\n1. Divida \"a\" en \"b\"\\n2. Divida usando \"//\" interactue \"a\" en \"b\" ¿qué hace \"//\"?\\n3. Multiplique \"a\" y \"b\". \\n4. Eleve \"c\" a la 3\\n5. Calcule el residuo entre \"a\" y \"c\"\\n'"
      ]
     },
     "execution_count": 10,
     "metadata": {},
     "output_type": "execute_result"
    }
   ],
   "source": [
    "'''\n",
    "TODO: Hagale a las variables ! Imprima los siguientes calculos\n",
    "1. Divida \"a\" en \"b\"\n",
    "2. Divida usando \"//\" interactue \"a\" en \"b\" ¿qué hace \"//\"?\n",
    "3. Multiplique \"a\" y \"b\". \n",
    "4. Eleve \"c\" a la 3\n",
    "5. Calcule el residuo entre \"a\" y \"c\"\n",
    "'''"
   ]
  },
  {
   "cell_type": "markdown",
   "metadata": {},
   "source": [
    "### Operaciones Booleanos (comparar valores)\n",
    "| Operación | Resultado       |\n",
    "| --------- | --------------- |\n",
    "|    ==      | Igual            |\n",
    "|    !=     | No igual           |\n",
    "|    >      | Mayor que  |\n",
    "|    <      | Menor que        |\n",
    "|    >=      | Mayor o igual que          |\n",
    "|    <=     | Menor o igual que |\n"
   ]
  },
  {
   "cell_type": "code",
   "execution_count": 11,
   "metadata": {},
   "outputs": [
    {
     "data": {
      "text/plain": [
       "'\\nTODO: Hagale a las variables ! Imprima los siguientes calculos\\n1. Pregunte si \"a\" es mayor que \"b\"\\n2. Pregunte si \"a\" es mayor o igual que \"a\"\\n3. Pregunte si \"a\" es igual a cualquier número\\n'"
      ]
     },
     "execution_count": 11,
     "metadata": {},
     "output_type": "execute_result"
    }
   ],
   "source": [
    "'''\n",
    "TODO: Hagale a las variables ! Imprima los siguientes calculos\n",
    "1. Pregunte si \"a\" es mayor que \"b\"\n",
    "2. Pregunte si \"a\" es mayor o igual que \"a\"\n",
    "3. Pregunte si \"a\" es igual a cualquier número\n",
    "'''"
   ]
  },
  {
   "cell_type": "markdown",
   "metadata": {},
   "source": [
    "### Lista y tuplas !\n",
    "\n",
    "Las listas son usadas para guardar muchos elementos en una sola variable."
   ]
  },
  {
   "cell_type": "code",
   "execution_count": 12,
   "metadata": {},
   "outputs": [
    {
     "name": "stdout",
     "output_type": "stream",
     "text": [
      "['manzana', 'banano', 'fresa']\n"
     ]
    }
   ],
   "source": [
    "lista1 = [\"manzana\", \"banano\", \"fresa\"]\n",
    "print(lista1)"
   ]
  },
  {
   "cell_type": "markdown",
   "metadata": {},
   "source": [
    "Para consultar cada elemento de una lista"
   ]
  },
  {
   "cell_type": "code",
   "execution_count": 1,
   "metadata": {},
   "outputs": [
    {
     "ename": "NameError",
     "evalue": "name 'lista1' is not defined",
     "output_type": "error",
     "traceback": [
      "\u001b[1;31m---------------------------------------------------------------------------\u001b[0m",
      "\u001b[1;31mNameError\u001b[0m                                 Traceback (most recent call last)",
      "\u001b[1;32m<ipython-input-1-e65a1f9d06e8>\u001b[0m in \u001b[0;36m<module>\u001b[1;34m\u001b[0m\n\u001b[1;32m----> 1\u001b[1;33m \u001b[0mprint\u001b[0m\u001b[1;33m(\u001b[0m\u001b[0mlista1\u001b[0m\u001b[1;33m[\u001b[0m\u001b[1;36m0\u001b[0m\u001b[1;33m]\u001b[0m\u001b[1;33m)\u001b[0m\u001b[1;33m\u001b[0m\u001b[1;33m\u001b[0m\u001b[0m\n\u001b[0m\u001b[0;32m      2\u001b[0m \u001b[0mprint\u001b[0m\u001b[1;33m(\u001b[0m\u001b[0mlista1\u001b[0m\u001b[1;33m[\u001b[0m\u001b[1;36m1\u001b[0m\u001b[1;33m]\u001b[0m\u001b[1;33m)\u001b[0m\u001b[1;33m\u001b[0m\u001b[1;33m\u001b[0m\u001b[0m\n\u001b[0;32m      3\u001b[0m \u001b[0mprint\u001b[0m\u001b[1;33m(\u001b[0m\u001b[0mlista1\u001b[0m\u001b[1;33m[\u001b[0m\u001b[1;36m2\u001b[0m\u001b[1;33m]\u001b[0m\u001b[1;33m)\u001b[0m\u001b[1;33m\u001b[0m\u001b[1;33m\u001b[0m\u001b[0m\n",
      "\u001b[1;31mNameError\u001b[0m: name 'lista1' is not defined"
     ]
    }
   ],
   "source": [
    "print(lista1[0])\n",
    "print(lista1[1])\n",
    "print(lista1[2])"
   ]
  },
  {
   "cell_type": "markdown",
   "metadata": {},
   "source": [
    "Para saber cuál es el tamaño de una lista siempre utilizaremos la función nativa de Python, `len()`. Por ejemplo:\n",
    "```python\n",
    "s = [0, 1, 2]\n",
    "print(len(s))\n",
    "```"
   ]
  },
  {
   "cell_type": "code",
   "execution_count": 14,
   "metadata": {},
   "outputs": [
    {
     "data": {
      "text/plain": [
       "'\\nTODO: Hagale a las variables!\\n    1. Imprima el tamaño de la lista1\\n'"
      ]
     },
     "execution_count": 14,
     "metadata": {},
     "output_type": "execute_result"
    }
   ],
   "source": [
    "'''\n",
    "TODO: Hagale a las variables!\n",
    "    1. Imprima el tamaño de la lista1\n",
    "'''"
   ]
  },
  {
   "cell_type": "code",
   "execution_count": 15,
   "metadata": {},
   "outputs": [],
   "source": [
    "list1 = [\"apple\", \"banana\", \"cherry\"]\n",
    "list2 = [1, 5, 7, 9, 3]\n",
    "list3 = [True, False, False]\n",
    "list4 = [\"bc\", 34, True, 40, \"Hombre\"]"
   ]
  },
  {
   "cell_type": "code",
   "execution_count": 16,
   "metadata": {},
   "outputs": [
    {
     "data": {
      "text/plain": [
       "'\\nTODO: Hagale a las variables !\\n    1. Imprima el tipo de cada elemento en la list4\\n    2. Determine que elementos tienen el mimso tipo por medio de las operaciones booleanas\\n'"
      ]
     },
     "execution_count": 16,
     "metadata": {},
     "output_type": "execute_result"
    }
   ],
   "source": [
    "'''\n",
    "TODO: Hagale a las variables !\n",
    "    1. Imprima el tipo de cada elemento en la list4\n",
    "    2. Determine que elementos tienen el mimso tipo por medio de las operaciones booleanas\n",
    "'''"
   ]
  },
  {
   "cell_type": "markdown",
   "metadata": {},
   "source": [
    "Se puede modificar los elementos de las listas ..."
   ]
  },
  {
   "cell_type": "code",
   "execution_count": 17,
   "metadata": {},
   "outputs": [
    {
     "name": "stdout",
     "output_type": "stream",
     "text": [
      "['bc', 34, True, 40, 'Hombre']\n",
      "['bc', 34, True, 40, 'Hola']\n"
     ]
    }
   ],
   "source": [
    "print(list4)\n",
    "list4[4] = 3\n",
    "list4[4] = 'Hola'\n",
    "print(list4)"
   ]
  },
  {
   "cell_type": "markdown",
   "metadata": {},
   "source": [
    "Ahora bien **la principal diferencia** entre las listas y las tuplas es que las tuplas se definen con paréntesis y que no se pueden cambiar sus valores"
   ]
  },
  {
   "cell_type": "code",
   "execution_count": 18,
   "metadata": {},
   "outputs": [],
   "source": [
    "tuple1 = (\"bc\", 34, True, 40, \"Hombre\")\n",
    "list1 = [\"bc\", 34, True, 40, \"Hombre\"]"
   ]
  },
  {
   "cell_type": "code",
   "execution_count": 19,
   "metadata": {},
   "outputs": [
    {
     "data": {
      "text/plain": [
       "'\\nTODO: Hagale a las variables!\\n    1. Verifique el tipo de  tuple1 y list1\\n    2. Intente cambiar un elemento de tuple1\\n'"
      ]
     },
     "execution_count": 19,
     "metadata": {},
     "output_type": "execute_result"
    }
   ],
   "source": [
    "'''\n",
    "TODO: Hagale a las variables!\n",
    "    1. Verifique el tipo de  tuple1 y list1\n",
    "    2. Intente cambiar un elemento de tuple1\n",
    "'''"
   ]
  },
  {
   "cell_type": "markdown",
   "metadata": {},
   "source": [
    "#### Algunos métodos de las listas\n",
    "1. `.sort()`\n",
    "2. `.append()`\n",
    "3. `.remove()`\n",
    "4. `.reverse()`\n",
    "5. `.index()`"
   ]
  },
  {
   "cell_type": "code",
   "execution_count": 20,
   "metadata": {},
   "outputs": [
    {
     "name": "stdout",
     "output_type": "stream",
     "text": [
      "['bc', 34, True, 40, 'Hombre', 7]\n",
      "[7, 'Hombre', 40, True, 34, 'bc']\n"
     ]
    }
   ],
   "source": [
    "list1.append(7)\n",
    "print(list1)\n",
    "\n",
    "list1.reverse()\n",
    "print(list1)"
   ]
  },
  {
   "cell_type": "markdown",
   "metadata": {},
   "source": [
    "## Diccionario\n",
    "\n",
    "Los diccionarios son usados para hacer variables que mapean e indexan elementos no organizados. En un formato de llaves y valores.\n",
    "\n",
    "```python\n",
    "diccionario = {\n",
    "     key1: value1,\n",
    "     key2: value2,\n",
    "        .\n",
    "        .\n",
    "        .\n",
    "    }\n",
    "\n",
    "```"
   ]
  },
  {
   "cell_type": "code",
   "execution_count": 21,
   "metadata": {},
   "outputs": [],
   "source": [
    "thisdict = {\n",
    "  \"marca\": \"Ford\",\n",
    "  \"modelo\": \"Mustang\",\n",
    "  \"anho\": 1964\n",
    "}"
   ]
  },
  {
   "cell_type": "markdown",
   "metadata": {},
   "source": [
    "Para saber cuál es el tamaño de un diccionario siempre utilizaremos la función nativa de Python, `len()`. Por ejemplo:\n",
    "```python\n",
    "s = {'llave1': 123, 'llave2': 345}\n",
    "print(len(s))\n",
    "```"
   ]
  },
  {
   "cell_type": "markdown",
   "metadata": {},
   "source": [
    "#### Algunos métodos de las listas\n",
    "1. `.get()`\n",
    "2. `.items()`\n",
    "3. `.keys()`\n",
    "4. `.values()`\n",
    "5. `.update()`"
   ]
  },
  {
   "cell_type": "code",
   "execution_count": 22,
   "metadata": {},
   "outputs": [
    {
     "data": {
      "text/plain": [
       "'\\nTODO: Hagale a las variables! Prueba cada uno de los métodos anteriores\\n'"
      ]
     },
     "execution_count": 22,
     "metadata": {},
     "output_type": "execute_result"
    }
   ],
   "source": [
    "'''\n",
    "TODO: Hagale a las variables! Prueba cada uno de los métodos anteriores\n",
    "'''"
   ]
  }
 ],
 "metadata": {
  "kernelspec": {
   "display_name": "Python 3",
   "language": "python",
   "name": "python3"
  },
  "language_info": {
   "codemirror_mode": {
    "name": "ipython",
    "version": 3
   },
   "file_extension": ".py",
   "mimetype": "text/x-python",
   "name": "python",
   "nbconvert_exporter": "python",
   "pygments_lexer": "ipython3",
   "version": "3.8.5"
  }
 },
 "nbformat": 4,
 "nbformat_minor": 4
}
