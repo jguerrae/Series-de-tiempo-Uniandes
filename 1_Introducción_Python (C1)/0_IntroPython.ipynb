{
 "cells": [
  {
   "cell_type": "markdown",
   "metadata": {},
   "source": [
    "## SERIES DE TIEMPO PARA PRONÓSTICOS EN ECONOMÍA Y FINANZAS\n",
    "### CLASE 0: Una muy breve introducción a Python\n",
    "\n",
    "<div style=\"text-align: right\"> Elaborado por Jorge Guerra </div>\n",
    "<div style=\"text-align: right\"> Basado principalmente en el código de Jose S. Ñungo </div>"
   ]
  },
  {
   "cell_type": "markdown",
   "metadata": {},
   "source": [
    "> **¿Por qué incluir Python en un curso de Series de Tiempo?**\n",
    "\n",
    "Python es un [lenguaje de programación](https://es.wikipedia.org/wiki/Lenguaje_de_programaci%C3%B3n) orientado a objetos, es decir, que el foco del mismo está en torno a los datos u objetos (diccionarios, listas, tuplas, dataframes, etc.) y no en las funciones y la lógica. Un objeto se puede definir como un campo de datos que tiene atributos y comportamiento únicos. En ese sentido, es fácil manipular dichos objetos y atributos de los mismos (ej: extraer el r2 o número de parámetros de una lista de 10000 posibles regresiones). Adicionalmente:\n",
    "\n",
    "- Es el lenguaje de programación [más popular del mundo en el 2021](https://www.crehana.com/co/blog/desarrollo-web/que-es-python/).\n",
    "- Es el primero cuando se trata de temas de análisis de datos. [Muchos economistas importantes usan Python](https://twitter.com/paulmromer?ref_src=twsrc%5Egoogle%7Ctwcamp%5Eserp%7Ctwgr%5Eauthor).\n",
    "- Es un lenguaje de propósito general, es decir que se utiliza para muchas cosas como Machine Learning, Internet of things, creación de aplicaciones web, de escritorio y de móviles. Por tanto es muy fácil integrarlo con diversas aplicaciones. Se puede usar para procesamiento de textos, recorte de videos, creación de bots para compras online, webscraping, simulaciones númericas, [modelos dinámicos de equilibrio general](http://www.chadfulton.com/topics/simple_rbc.html), entre otros.\n",
    "- Open-source (no necesita de licencia, como Matlab o Stata).\n",
    "- Comunidad grande y colaborativa. Generalmente es muy fácil encontrar videos en Youtube, Blogs o foros de Stackoverflow con cualquier duda o problema que pueda tener el código.\n",
    "- Una guía de Python para economistas de Harvard la puede encontrar [aquí](https://scholar.harvard.edu/files/ambell/files/python_for_economists.pdf).\n",
    "\n",
    "---\n"
   ]
  },
  {
   "cell_type": "markdown",
   "metadata": {},
   "source": [
    "A diferencia del Matlab, el lenguaje de Python no está cimentado sobre un unico objeto como lo son los vectores y matrices. A través de las librerias es posible darle el enfoque deseado. Por ejemplo, la libreria [*Numpy*](https://numpy.org/) está orientada al procesamiento matricial en Python y uso en algunas ocasiones es necesario."
   ]
  },
  {
   "cell_type": "markdown",
   "metadata": {},
   "source": [
    "> **Recuerde**: Encuentra la instalación de Python, VSCode y Anaconda [aquí](https://uniandes-my.sharepoint.com/:v:/g/personal/ja_guerrae_uniandes_edu_co/EUDP_3tF-MRBq49tmBbvwGIBuiaXDmnSRFj6voaIvaaiRw?e=hbGs48).\n",
    "---"
   ]
  },
  {
   "cell_type": "markdown",
   "metadata": {},
   "source": [
    "> **¿Qué son los Jupyter Notebooks?**\n",
    "\n",
    "Los archivos de extensión *.ipynb* presentan una interfaz muy cómoda para el aprendizaje, y la colaboración. Contiene:\n",
    "- Celdas de código\n",
    "- Celdas de [markdown](https://github.com/adam-p/markdown-here/wiki/Markdown-Cheatsheet) (como esta)\n",
    "- Celdas de texto crudo\n",
    "- Kernel\n",
    "\n",
    "Lo que hacen los cuadernos de jupyter es transformar la información del código plano de python (*.py*) a una interfaz visual más amigable (como lo hace RStudio con R). Spyder es otra interfaz para Python muy similar a la de Matlab o RStudio.\n",
    "\n",
    "<img src=\"https://www.dataquest.io/wp-content/uploads/2019/01/interface-screenshot.png\" alt=\"drawing\" style=\"width:800px;\"/>\n",
    "\n",
    "La documentación oficial de Jupyter está [aquí](https://jupyter-notebook.readthedocs.io/en/stable/) y puede encontrar algunos Notebooks didácticos [aquí](https://github.com/jupyter/notebook/tree/master/docs/source/examples/Notebook).\n",
    "\n",
    "Estos pueden ser abiertos desde VSCode o Anaconda. Mientras el primero es un editor de Microsoft que soporta distintos lenguajes, la segunda una distribución libre y abierta​ de los lenguajes Python y R, utilizada en ciencia de datos, y aprendizaje automático. Puede encontrar más información de VSCode en este [link](https://code.visualstudio.com/learn) y sobre la integración de los notebooks [aquí](https://code.visualstudio.com/docs/datascience/jupyter-notebooks). Para el caso de Anaconda puede explorar su [sitio oficial](https://www.anaconda.com/products/individual).\n",
    "\n",
    "---\n",
    "\n"
   ]
  },
  {
   "cell_type": "markdown",
   "metadata": {},
   "source": [
    "### Objetos en Python"
   ]
  },
  {
   "cell_type": "markdown",
   "metadata": {},
   "source": [
    "> **Variables** : estas son creadas cuando se les asigna un valor y se les da un nombre."
   ]
  },
  {
   "cell_type": "code",
   "execution_count": 1,
   "metadata": {},
   "outputs": [],
   "source": [
    "x = 5 \n",
    "y = 'Hola Mundo !!'\n",
    "z = 5.4"
   ]
  },
  {
   "cell_type": "code",
   "execution_count": 2,
   "metadata": {},
   "outputs": [],
   "source": [
    "import pandas as pd"
   ]
  },
  {
   "cell_type": "markdown",
   "metadata": {},
   "source": [
    "Si queremos saber el valor de una variable utilizaremos la función nativa de Python *print()*"
   ]
  },
  {
   "cell_type": "code",
   "execution_count": 3,
   "metadata": {},
   "outputs": [
    {
     "name": "stdout",
     "output_type": "stream",
     "text": [
      "5\n",
      "5 Hola Mundo !!\n",
      "el valor de la variable x es 5\n"
     ]
    }
   ],
   "source": [
    "print(x)\n",
    "print(x,y)\n",
    "print(f\"el valor de la variable x es {x}\")"
   ]
  },
  {
   "cell_type": "markdown",
   "metadata": {},
   "source": [
    "### Tipos de variables básicas\n",
    "\n",
    "- Integers `x = 3`\n",
    "- Floats `x = 3.0`\n",
    "- Strings `x = '3'`\n",
    "- Boolean `x = True` o `x = False`\n",
    "\n",
    "\n",
    "| Tipo de variable | Dentro de python  |\n",
    "| -----------------| --------------- |\n",
    "|    Texto      | `str`            |\n",
    "|    Numéricas      | `int`, `float`, `complex`        |\n",
    "|    Secuenciales      | `list`, `tuple`, `range`  |\n",
    "|    Mapeos      | `dict`        |\n",
    "|    Conjuntos     | `set`, `frozenset` |\n",
    "|    Booleano   | `bool`        |\n",
    "|    Binario    | `byte`, `bytearray`, `memoryview` |\n",
    "|    Vacios     | `None`|"
   ]
  },
  {
   "cell_type": "code",
   "execution_count": 11,
   "metadata": {},
   "outputs": [],
   "source": [
    "## EJEMPLOS \n",
    "\n",
    "str1 = \"Julian\"\n",
    "int1 = 4; float1 = 4.5; compl1=5j\n",
    "list1 = [1,2,3,4,\"Jorge\", 4]; tuple1 = (1,2,3,4,\"Jorge\"); range1 = range(1,30,3) #rango del 1 al 30 de 3 en 3\n",
    "dict1 = {\"Dirección 1\": \"Carrera 5 numero 40-35\", \"numero de manzanas\": 45, \"rango\": range1}\n",
    "set1 = set(list1) ## es igual a la lista 1 solo que sin repetidos, es el conjunto\n",
    "bool1 = True; bool2 = False\n",
    "binari1 = 1\n",
    "None1 = None\n",
    "\n",
    "\n",
    "##NOTA: agregar \";\" es equivalente a un salto de línea."
   ]
  },
  {
   "cell_type": "markdown",
   "metadata": {},
   "source": [
    "---"
   ]
  },
  {
   "cell_type": "markdown",
   "metadata": {},
   "source": [
    "### *Casting* de variables\n",
    "\n",
    "Hay casos en los que queremos especificar el tipo de nuestra variable. Esto se puede hacer con el casting de variables:\n",
    ">* `int()` - Construye un entero utilizando el argumento, puede construir un entero de un numero real haciendo utilizando la funcion *piso*.\n",
    ">* `float()` - Construye un decimal utilizando el argumento.\n",
    ">* `str()` - Construye una cadena de caracteres utilizando el argumento."
   ]
  },
  {
   "cell_type": "code",
   "execution_count": 5,
   "metadata": {},
   "outputs": [
    {
     "name": "stdout",
     "output_type": "stream",
     "text": [
      "2, 2.8, 2.8\n",
      "<class 'int'>, <class 'float'>, <class 'str'>\n"
     ]
    }
   ],
   "source": [
    "x = int(2.8)\n",
    "y = float(2.8)\n",
    "z = str(2.8)\n",
    "\n",
    "print(f\"{x}, {y}, {z}\")\n",
    "print(f\"{type(x)}, {type(y)}, {type(z)}\")"
   ]
  },
  {
   "cell_type": "markdown",
   "metadata": {},
   "source": [
    "Hay otros casos donde no es posible convertir las variables. Ej (strings a enteros):"
   ]
  },
  {
   "cell_type": "code",
   "execution_count": 6,
   "metadata": {},
   "outputs": [
    {
     "ename": "ValueError",
     "evalue": "invalid literal for int() with base 10: 'Carol'",
     "output_type": "error",
     "traceback": [
      "\u001b[1;31m---------------------------------------------------------------------------\u001b[0m",
      "\u001b[1;31mValueError\u001b[0m                                Traceback (most recent call last)",
      "\u001b[1;32m<ipython-input-6-ce10ff38bf06>\u001b[0m in \u001b[0;36m<module>\u001b[1;34m\u001b[0m\n\u001b[0;32m      1\u001b[0m \u001b[0mnombre1\u001b[0m \u001b[1;33m=\u001b[0m \u001b[1;34m\"Carol\"\u001b[0m\u001b[1;33m\u001b[0m\u001b[1;33m\u001b[0m\u001b[0m\n\u001b[1;32m----> 2\u001b[1;33m \u001b[0mnombre2\u001b[0m \u001b[1;33m=\u001b[0m \u001b[0mint\u001b[0m\u001b[1;33m(\u001b[0m\u001b[0mnombre1\u001b[0m\u001b[1;33m)\u001b[0m\u001b[1;33m\u001b[0m\u001b[1;33m\u001b[0m\u001b[0m\n\u001b[0m",
      "\u001b[1;31mValueError\u001b[0m: invalid literal for int() with base 10: 'Carol'"
     ]
    }
   ],
   "source": [
    "nombre1 = \"Carol\"\n",
    "nombre2 = int(nombre1)"
   ]
  },
  {
   "cell_type": "markdown",
   "metadata": {},
   "source": [
    "Que es distinto a esto:"
   ]
  },
  {
   "cell_type": "code",
   "execution_count": 7,
   "metadata": {},
   "outputs": [
    {
     "data": {
      "text/plain": [
       "3864"
      ]
     },
     "execution_count": 7,
     "metadata": {},
     "output_type": "execute_result"
    }
   ],
   "source": [
    "nombre1 = \"3864\"\n",
    "nombre2 = int(nombre1)\n",
    "nombre2"
   ]
  },
  {
   "cell_type": "markdown",
   "metadata": {},
   "source": [
    "---"
   ]
  },
  {
   "cell_type": "markdown",
   "metadata": {},
   "source": [
    "### Operacion de variables numéricas\n",
    "\n",
    "| Operación | Resultado       |\n",
    "| --------- | --------------- |\n",
    "|    +      | Suma            |\n",
    "|    -      | Resta           |\n",
    "|    *      | Multiplicación  |\n",
    "|    /      | División        |\n",
    "|    %      | Modulo          |\n",
    "|    //     | División entera |\n",
    "|    \\*\\*   | Potencia        |"
   ]
  },
  {
   "cell_type": "markdown",
   "metadata": {},
   "source": []
  },
  {
   "cell_type": "code",
   "execution_count": 8,
   "metadata": {},
   "outputs": [
    {
     "name": "stdout",
     "output_type": "stream",
     "text": [
      "5 2 87\n"
     ]
    }
   ],
   "source": [
    "a, b, c = 5, 2, 87 #otra forma de declarar variables\n",
    "\n",
    "print(a,b,c)"
   ]
  },
  {
   "cell_type": "markdown",
   "metadata": {},
   "source": [
    "Imprima los siguientes calculos:\n",
    "\n",
    "1. Divida \"a\" en \"b\"\n",
    "2. Divida usando \"//\" interactue \"a\" en \"b\" ¿qué hace \"//\"?\n",
    "3. Multiplique \"a\" y \"b\". \n",
    "4. Eleve \"c\" a la 3\n",
    "5. Calcule el residuo entre \"a\" y \"c\""
   ]
  },
  {
   "cell_type": "code",
   "execution_count": 9,
   "metadata": {},
   "outputs": [
    {
     "name": "stdout",
     "output_type": "stream",
     "text": [
      "2\n"
     ]
    }
   ],
   "source": [
    "print(6%4)"
   ]
  },
  {
   "cell_type": "code",
   "execution_count": null,
   "metadata": {},
   "outputs": [],
   "source": []
  },
  {
   "cell_type": "markdown",
   "metadata": {},
   "source": [
    "---"
   ]
  },
  {
   "cell_type": "markdown",
   "metadata": {},
   "source": [
    "### Operaciones Booleanos (comparar valores)\n",
    "| Operación | Resultado       |\n",
    "| --------- | --------------- |\n",
    "|    ==      | Igual            |\n",
    "|    !=     | No igual           |\n",
    "|    >      | Mayor que  |\n",
    "|    <      | Menor que        |\n",
    "|    >=      | Mayor o igual que          |\n",
    "|    <=     | Menor o igual que |\n"
   ]
  },
  {
   "cell_type": "code",
   "execution_count": 10,
   "metadata": {},
   "outputs": [
    {
     "data": {
      "text/plain": [
       "False"
      ]
     },
     "execution_count": 10,
     "metadata": {},
     "output_type": "execute_result"
    }
   ],
   "source": [
    "a == 27"
   ]
  },
  {
   "cell_type": "code",
   "execution_count": 11,
   "metadata": {},
   "outputs": [
    {
     "name": "stdout",
     "output_type": "stream",
     "text": [
      "False\n"
     ]
    }
   ],
   "source": [
    "print(b>=87)"
   ]
  },
  {
   "cell_type": "markdown",
   "metadata": {},
   "source": [
    "Imprima los siguientes calculos:\n",
    "\n",
    "1. Pregunte si \"a\" es mayor que \"b\"\n",
    "2. Pregunte si \"a\" es mayor o igual que \"a\"\n",
    "3. Pregunte si \"a\" es igual a cualquier número\n",
    "\n",
    "---"
   ]
  },
  {
   "cell_type": "markdown",
   "metadata": {},
   "source": [
    "### Listas y tuplas"
   ]
  },
  {
   "cell_type": "markdown",
   "metadata": {},
   "source": [
    "Las listas son usadas para guardar muchos elementos en una sola variable."
   ]
  },
  {
   "cell_type": "code",
   "execution_count": 12,
   "metadata": {},
   "outputs": [
    {
     "name": "stdout",
     "output_type": "stream",
     "text": [
      "['manzana', 'banano', 'fresa']\n"
     ]
    }
   ],
   "source": [
    "lista1 = [\"manzana\", \"banano\", \"fresa\"]\n",
    "print(lista1)"
   ]
  },
  {
   "cell_type": "markdown",
   "metadata": {},
   "source": [
    "Para consultar cada elemento de una lista"
   ]
  },
  {
   "cell_type": "code",
   "execution_count": 13,
   "metadata": {},
   "outputs": [
    {
     "name": "stdout",
     "output_type": "stream",
     "text": [
      "manzana\n",
      "banano\n",
      "fresa\n"
     ]
    }
   ],
   "source": [
    "print(lista1[0])\n",
    "print(lista1[1])\n",
    "print(lista1[2])"
   ]
  },
  {
   "cell_type": "markdown",
   "metadata": {},
   "source": [
    "Para saber cuál es el tamaño de una lista siempre utilizaremos la función nativa de Python, `len()`. Por ejemplo:"
   ]
  },
  {
   "cell_type": "code",
   "execution_count": 14,
   "metadata": {},
   "outputs": [
    {
     "name": "stdout",
     "output_type": "stream",
     "text": [
      "3\n"
     ]
    }
   ],
   "source": [
    "s = [0, 1, 2]\n",
    "print(len(s))"
   ]
  },
  {
   "cell_type": "markdown",
   "metadata": {},
   "source": [
    "1. Imprima el tamaño de la lista1"
   ]
  },
  {
   "cell_type": "code",
   "execution_count": 15,
   "metadata": {},
   "outputs": [],
   "source": [
    "list1 = [\"apple\", \"banana\", \"cherry\"]\n",
    "list2 = [1, 5, 7, 9, 3]\n",
    "list3 = [True, False, False]\n",
    "list4 = [\"bc\", 34, True, 40, \"Hombre\"]"
   ]
  },
  {
   "cell_type": "markdown",
   "metadata": {},
   "source": [
    "No necesariamente las listas deben contener los mismos objetos y sus elementos pueden ser modificados."
   ]
  },
  {
   "cell_type": "code",
   "execution_count": 16,
   "metadata": {},
   "outputs": [
    {
     "name": "stdout",
     "output_type": "stream",
     "text": [
      "['bc', 34, True, 40, 'Hombre']\n",
      "['bc', 34, True, 40, 'Hola']\n"
     ]
    }
   ],
   "source": [
    "print(list4)\n",
    "list4[4] = 3\n",
    "list4[4] = 'Hola'\n",
    "print(list4)"
   ]
  },
  {
   "cell_type": "markdown",
   "metadata": {},
   "source": [
    "Ahora bien **la principal diferencia** entre las listas y las tuplas es que las tuplas se definen con paréntesis y que no se pueden cambiar sus valores."
   ]
  },
  {
   "cell_type": "code",
   "execution_count": 17,
   "metadata": {},
   "outputs": [],
   "source": [
    "tuple1 = (\"bc\", 34, True, 40, \"Hombre\")\n",
    "list1 = [\"bc\", 34, True, 40, \"Hombre\"]"
   ]
  },
  {
   "cell_type": "markdown",
   "metadata": {},
   "source": [
    "1. Verifique el tipo de  tuple1 y list1\n",
    "2. Intente cambiar un elemento de tuple1"
   ]
  },
  {
   "cell_type": "markdown",
   "metadata": {},
   "source": [
    "#### Algunos métodos de las listas\n",
    "1. `.sort()`\n",
    "2. `.append()`\n",
    "3. `.remove()`\n",
    "4. `.reverse()`\n",
    "5. `.index()`"
   ]
  },
  {
   "cell_type": "code",
   "execution_count": 18,
   "metadata": {},
   "outputs": [
    {
     "name": "stdout",
     "output_type": "stream",
     "text": [
      "['bc', 34, True, 40, 'Hombre', 7]\n"
     ]
    }
   ],
   "source": [
    "list1.append(7)\n",
    "print(list1)"
   ]
  },
  {
   "cell_type": "code",
   "execution_count": 19,
   "metadata": {},
   "outputs": [
    {
     "name": "stdout",
     "output_type": "stream",
     "text": [
      "[7, 'Hombre', 40, True, 34, 'bc']\n"
     ]
    }
   ],
   "source": [
    "list1.reverse()\n",
    "print(list1)"
   ]
  },
  {
   "cell_type": "code",
   "execution_count": 20,
   "metadata": {},
   "outputs": [
    {
     "data": {
      "text/plain": [
       "2"
      ]
     },
     "execution_count": 20,
     "metadata": {},
     "output_type": "execute_result"
    }
   ],
   "source": [
    "list1.index(40)"
   ]
  },
  {
   "cell_type": "markdown",
   "metadata": {},
   "source": [
    "Para mayor información sobre las listas puede consultar [aquí](https://j2logo.com/python/tutorial/tipo-list-python/#). Dado que esta es una muy breve introducción, a lo largo de cada clase se irán explicando los conceptos de código necesarios para llevar a cabo las aplicaciones empíricas.\n",
    "\n",
    "---"
   ]
  },
  {
   "cell_type": "markdown",
   "metadata": {},
   "source": [
    "## Diccionarios\n",
    "\n",
    "Los diccionarios son usados para hacer variables que mapean e indexan elementos no organizados. En un formato de llaves y valores.\n",
    "\n",
    "```python\n",
    "diccionario = {\n",
    "     key1: value1,\n",
    "     key2: value2,\n",
    "        .\n",
    "        .\n",
    "        .\n",
    "    }\n",
    "\n",
    "```"
   ]
  },
  {
   "cell_type": "code",
   "execution_count": 22,
   "metadata": {},
   "outputs": [],
   "source": [
    "midict = {\n",
    "  \"marca\": \"Ford\",\n",
    "  \"modelo\": \"Mustang\",\n",
    "  \"anio\": 1964\n",
    "}"
   ]
  },
  {
   "cell_type": "markdown",
   "metadata": {},
   "source": [
    "Para saber cuál es el tamaño de un diccionario siempre utilizaremos la función nativa de Python, `len()`. Por ejemplo:\n",
    "```python\n",
    "s = {'llave1': 123, 'llave2': 345}\n",
    "print(len(s))\n",
    "```"
   ]
  },
  {
   "cell_type": "code",
   "execution_count": 23,
   "metadata": {},
   "outputs": [
    {
     "name": "stdout",
     "output_type": "stream",
     "text": [
      "2\n"
     ]
    }
   ],
   "source": [
    "s = {'llave1': 123, 'llave2': 345}\n",
    "print(len(s))"
   ]
  },
  {
   "cell_type": "markdown",
   "metadata": {},
   "source": [
    "#### Algunos métodos de los diccionarios\n",
    "1. `.get()`\n",
    "2. `.items()`\n",
    "3. `.keys()`\n",
    "4. `.values()`\n",
    "5. `.update()`"
   ]
  },
  {
   "cell_type": "markdown",
   "metadata": {},
   "source": [
    "Para mayor información sobre los diccionarios puede ir al siguiente [sitio](https://entrenamiento-python-basico.readthedocs.io/es/latest/leccion3/tipo_diccionarios.html)"
   ]
  },
  {
   "cell_type": "markdown",
   "metadata": {},
   "source": [
    "> **En la introducción faltaron objetos importantes como los dataframes o arreglos de numpy, pero serán introducidos según lo requiera el caso**"
   ]
  },
  {
   "cell_type": "code",
   "execution_count": null,
   "metadata": {},
   "outputs": [],
   "source": []
  }
 ],
 "metadata": {
  "interpreter": {
   "hash": "06cb5fed7a19db1a3b234843391dc1a69eede94e92f070202b04797e91c1cb37"
  },
  "kernelspec": {
   "display_name": "Python 3",
   "language": "python",
   "name": "python3"
  },
  "language_info": {
   "codemirror_mode": {
    "name": "ipython",
    "version": 3
   },
   "file_extension": ".py",
   "mimetype": "text/x-python",
   "name": "python",
   "nbconvert_exporter": "python",
   "pygments_lexer": "ipython3",
   "version": "3.8.5"
  }
 },
 "nbformat": 4,
 "nbformat_minor": 2
}
